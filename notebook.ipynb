{
 "cells": [
  {
   "cell_type": "code",
   "execution_count": 4,
   "metadata": {},
   "outputs": [
    {
     "data": {
      "text/html": [
       "<div>\n",
       "<style scoped>\n",
       "    .dataframe tbody tr th:only-of-type {\n",
       "        vertical-align: middle;\n",
       "    }\n",
       "\n",
       "    .dataframe tbody tr th {\n",
       "        vertical-align: top;\n",
       "    }\n",
       "\n",
       "    .dataframe thead th {\n",
       "        text-align: right;\n",
       "    }\n",
       "</style>\n",
       "<table border=\"1\" class=\"dataframe\">\n",
       "  <thead>\n",
       "    <tr style=\"text-align: right;\">\n",
       "      <th></th>\n",
       "      <th>variant_type</th>\n",
       "      <th>description</th>\n",
       "      <th>deleted</th>\n",
       "      <th>inserted</th>\n",
       "      <th>allele_count</th>\n",
       "      <th>total_count</th>\n",
       "      <th>observed_frequency</th>\n",
       "      <th>diseases</th>\n",
       "      <th>significances</th>\n",
       "      <th>submissions</th>\n",
       "      <th>gene_locus</th>\n",
       "      <th>gene_name</th>\n",
       "    </tr>\n",
       "  </thead>\n",
       "  <tbody>\n",
       "    <tr>\n",
       "      <th>0</th>\n",
       "      <td>dup</td>\n",
       "      <td>dupTCAAAAGGGACATAGAAAA</td>\n",
       "      <td></td>\n",
       "      <td>TCAAAAGGGACATAGAAAA</td>\n",
       "      <td>3</td>\n",
       "      <td>520284</td>\n",
       "      <td>0.000006</td>\n",
       "      <td>Hereditary cancer-predisposing syndrome, Lynch...</td>\n",
       "      <td>pathogenic</td>\n",
       "      <td>6</td>\n",
       "      <td>MSH6, FBXO11</td>\n",
       "      <td>mutS homolog 6, F-box protein 11</td>\n",
       "    </tr>\n",
       "  </tbody>\n",
       "</table>\n",
       "</div>"
      ],
      "text/plain": [
       "  variant_type             description deleted             inserted  \\\n",
       "0          dup  dupTCAAAAGGGACATAGAAAA          TCAAAAGGGACATAGAAAA   \n",
       "\n",
       "   allele_count  total_count  observed_frequency  \\\n",
       "0             3       520284            0.000006   \n",
       "\n",
       "                                            diseases significances  \\\n",
       "0  Hereditary cancer-predisposing syndrome, Lynch...    pathogenic   \n",
       "\n",
       "   submissions    gene_locus                         gene_name  \n",
       "0            6  MSH6, FBXO11  mutS homolog 6, F-box protein 11  "
      ]
     },
     "execution_count": 4,
     "metadata": {},
     "output_type": "execute_result"
    }
   ],
   "source": [
    "from src import *\n",
    "from container import Container\n",
    "\n",
    "c = Container()\n",
    "Container.wire(c)\n",
    "\n",
    "rsid = 'rs63750767'\n",
    "dataframe_generator = NCBIDataFrameGenerator()\n",
    "rsid_json = dataframe_generator._get_rsid_json_file(rsid)\n",
    "rsid_data = dataframe_generator._get_data_for_single_rsid(rsid)\n",
    "allele_annotations = rsid_json['primary_snapshot_data']['allele_annotations']\n",
    "placements_with_allele = rsid_json['primary_snapshot_data']['placements_with_allele']\n",
    "result = dataframe_generator._process_allele_annotations(allele_annotations, placements_with_allele)\n",
    "result"
   ]
  }
 ],
 "metadata": {
  "kernelspec": {
   "display_name": ".venv",
   "language": "python",
   "name": "python3"
  },
  "language_info": {
   "codemirror_mode": {
    "name": "ipython",
    "version": 3
   },
   "file_extension": ".py",
   "mimetype": "text/x-python",
   "name": "python",
   "nbconvert_exporter": "python",
   "pygments_lexer": "ipython3",
   "version": "3.11.2"
  }
 },
 "nbformat": 4,
 "nbformat_minor": 2
}
