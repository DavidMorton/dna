{
 "cells": [
  {
   "cell_type": "code",
   "execution_count": 1,
   "metadata": {},
   "outputs": [],
   "source": [
    "import pandas as pd\n",
    "import os\n",
    "from src import *\n"
   ]
  },
  {
   "cell_type": "code",
   "execution_count": 10,
   "metadata": {},
   "outputs": [],
   "source": [
    "\n",
    "df = pd.read_parquet('.data/frequency_raw_combined.parquet')\n",
    "progress = pd.read_parquet('.data/opensnp_progress.parquet')\n",
    "\n",
    "def create_reduced_dataframe(df):\n",
    "    if os.path.exists('.data/reduced_temp.parquet'):\n",
    "        return pd.read_parquet('.data/reduced_temp.parquet')\n",
    "    \n",
    "    reduced = df[df['rsid'].str.startswith('rs') | df['rsid'].str.startswith('i')][['rsid','chromosome','alleles','count']]\n",
    "    reduced['alleles'] = reduced['alleles'].str.replace('None','')\n",
    "    reduced = reduced.groupby(['rsid','chromosome','alleles'])['count'].sum()\n",
    "    reduced = reduced.reset_index(drop=False)\n",
    "    reduced.to_parquet('.data/reduced_temp.parquet')\n",
    "    return reduced\n",
    "\n",
    "reduced = create_reduced_dataframe(df)"
   ]
  },
  {
   "cell_type": "code",
   "execution_count": 14,
   "metadata": {},
   "outputs": [],
   "source": [
    "reduced = reduced[reduced['alleles'] != '--']"
   ]
  },
  {
   "cell_type": "code",
   "execution_count": 22,
   "metadata": {},
   "outputs": [
    {
     "data": {
      "text/html": [
       "<div>\n",
       "<style scoped>\n",
       "    .dataframe tbody tr th:only-of-type {\n",
       "        vertical-align: middle;\n",
       "    }\n",
       "\n",
       "    .dataframe tbody tr th {\n",
       "        vertical-align: top;\n",
       "    }\n",
       "\n",
       "    .dataframe thead th {\n",
       "        text-align: right;\n",
       "    }\n",
       "</style>\n",
       "<table border=\"1\" class=\"dataframe\">\n",
       "  <thead>\n",
       "    <tr style=\"text-align: right;\">\n",
       "      <th></th>\n",
       "      <th>rsid</th>\n",
       "      <th>chromosome</th>\n",
       "      <th>alleles</th>\n",
       "      <th>count</th>\n",
       "    </tr>\n",
       "  </thead>\n",
       "  <tbody>\n",
       "    <tr>\n",
       "      <th>27494216</th>\n",
       "      <td>rs63750767</td>\n",
       "      <td>1</td>\n",
       "      <td>II</td>\n",
       "      <td>1</td>\n",
       "    </tr>\n",
       "  </tbody>\n",
       "</table>\n",
       "</div>"
      ],
      "text/plain": [
       "                rsid chromosome alleles  count\n",
       "27494216  rs63750767          1      II      1"
      ]
     },
     "execution_count": 22,
     "metadata": {},
     "output_type": "execute_result"
    }
   ],
   "source": [
    "reduced[(reduced['rsid'] == 'rs63750767') & (reduced['chromosome'] == '1')]"
   ]
  },
  {
   "cell_type": "code",
   "execution_count": 36,
   "metadata": {},
   "outputs": [
    {
     "name": "stdout",
     "output_type": "stream",
     "text": [
      "searching the combined parquet files for the value\n",
      "Searching combined subsets\n"
     ]
    },
    {
     "name": "stderr",
     "output_type": "stream",
     "text": [
      "100%|██████████| 100/100 [04:46<00:00,  2.86s/it]\n"
     ]
    },
    {
     "name": "stdout",
     "output_type": "stream",
     "text": [
      "searching applicable files\n"
     ]
    },
    {
     "name": "stderr",
     "output_type": "stream",
     "text": [
      "100%|██████████| 50/50 [00:37<00:00,  1.33it/s]\n"
     ]
    }
   ],
   "source": [
    "def find_source_for(values:dict):\n",
    "    print('searching the combined parquet files for the value')\n",
    "    subsets_with_value = []\n",
    "\n",
    "    filelist = [x for x in os.listdir('.data/combined_subsets/') if x.endswith('.parquet')]\n",
    "    print('Searching combined subsets')\n",
    "    for x,_ in zip(filelist, trange(len(filelist) - 1)):\n",
    "        fullpath = os.path.join('.data', 'combined_subsets', x)\n",
    "        df = pd.read_parquet(fullpath)\n",
    "        for k,v in values.items():\n",
    "            df = df[df[k] == v].copy()\n",
    "        if len(df) > 0:\n",
    "            subsets_with_value.append(x)\n",
    "\n",
    "    reader = GeneticDataToDataFrameConverter()\n",
    "\n",
    "    files = progress.loc[progress['out_file'].isin(subsets_with_value) & (progress['errored'] == False), 'filename'].tolist()\n",
    "\n",
    "    files_containing_data = []\n",
    "    \n",
    "    for file,_ in zip(files, trange(len(files) - 1)):\n",
    "        pathname = os.path.join('.data','opensnp',file)\n",
    "        df = reader.read_data(pathname, True)\n",
    "        for k,v in values.items():\n",
    "            df = df[df[k] == v].copy()\n",
    "        if len(df) > 0:\n",
    "            files_containing_data.append(file)\n",
    "\n",
    "    return files_containing_data\n",
    "\n",
    "result = find_source_for({'rsid':'rs63750767', 'chromosome':'1'})"
   ]
  },
  {
   "cell_type": "code",
   "execution_count": 37,
   "metadata": {},
   "outputs": [
    {
     "data": {
      "text/plain": [
       "['user3641_file3242_yearofbirth_1991_sex_XY.ancestry.txt']"
      ]
     },
     "execution_count": 37,
     "metadata": {},
     "output_type": "execute_result"
    }
   ],
   "source": [
    "result"
   ]
  }
 ],
 "metadata": {
  "kernelspec": {
   "display_name": ".venv",
   "language": "python",
   "name": "python3"
  },
  "language_info": {
   "codemirror_mode": {
    "name": "ipython",
    "version": 3
   },
   "file_extension": ".py",
   "mimetype": "text/x-python",
   "name": "python",
   "nbconvert_exporter": "python",
   "pygments_lexer": "ipython3",
   "version": "3.11.2"
  }
 },
 "nbformat": 4,
 "nbformat_minor": 2
}
