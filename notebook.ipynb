{
 "cells": [
  {
   "cell_type": "code",
   "execution_count": null,
   "metadata": {},
   "outputs": [],
   "source": [
    "import pandas as pd\n",
    "import os\n",
    "from src import *\n"
   ]
  },
  {
   "cell_type": "code",
   "execution_count": null,
   "metadata": {},
   "outputs": [],
   "source": [
    "\n",
    "df = pd.read_parquet('.data/frequency_raw_combined.parquet')\n",
    "progress = pd.read_parquet('.data/opensnp_progress.parquet')\n",
    "\n",
    "def create_reduced_dataframe(df):\n",
    "    if os.path.exists('.data/reduced_temp.parquet'):\n",
    "        return pd.read_parquet('.data/reduced_temp.parquet')\n",
    "    \n",
    "    reduced = df[df['rsid'].str.startswith('rs') | df['rsid'].str.startswith('i')][['rsid','chromosome','alleles','count']]\n",
    "    reduced['alleles'] = reduced['alleles'].str.replace('None','')\n",
    "    reduced = reduced.groupby(['rsid','chromosome','alleles'])['count'].sum()\n",
    "    reduced = reduced.reset_index(drop=False)\n",
    "    reduced.to_parquet('.data/reduced_temp.parquet')\n",
    "    return reduced\n",
    "\n",
    "reduced = create_reduced_dataframe(df)"
   ]
  },
  {
   "cell_type": "code",
   "execution_count": null,
   "metadata": {},
   "outputs": [],
   "source": [
    "reduced = reduced[reduced['alleles'] != '--']"
   ]
  },
  {
   "cell_type": "code",
   "execution_count": null,
   "metadata": {},
   "outputs": [],
   "source": [
    "reduced[(reduced['rsid'] == 'rs63750767') & (reduced['chromosome'] == '1')]"
   ]
  },
  {
   "cell_type": "code",
   "execution_count": null,
   "metadata": {},
   "outputs": [],
   "source": [
    "def find_source_for(values:dict):\n",
    "    print('searching the combined parquet files for the value')\n",
    "    subsets_with_value = []\n",
    "\n",
    "    filelist = [x for x in os.listdir('.data/combined_subsets/') if x.endswith('.parquet')]\n",
    "    print('Searching combined subsets')\n",
    "    for x,_ in zip(filelist, trange(len(filelist) - 1)):\n",
    "        fullpath = os.path.join('.data', 'combined_subsets', x)\n",
    "        df = pd.read_parquet(fullpath)\n",
    "        for k,v in values.items():\n",
    "            df = df[df[k] == v].copy()\n",
    "        if len(df) > 0:\n",
    "            subsets_with_value.append(x)\n",
    "\n",
    "    reader = GeneticDataToDataFrameConverter()\n",
    "\n",
    "    files = progress.loc[progress['out_file'].isin(subsets_with_value) & (progress['errored'] == False), 'filename'].tolist()\n",
    "\n",
    "    files_containing_data = []\n",
    "    \n",
    "    for file,_ in zip(files, trange(len(files) - 1)):\n",
    "        pathname = os.path.join('.data','opensnp',file)\n",
    "        df = reader.read_data(pathname, True)\n",
    "        for k,v in values.items():\n",
    "            df = df[df[k] == v].copy()\n",
    "        if len(df) > 0:\n",
    "            files_containing_data.append(file)\n",
    "\n",
    "    return files_containing_data\n",
    "\n",
    "result = find_source_for({'rsid':'rs63750767', 'chromosome':'1'})"
   ]
  },
  {
   "cell_type": "code",
   "execution_count": null,
   "metadata": {},
   "outputs": [],
   "source": [
    "result"
   ]
  }
 ],
 "metadata": {
  "kernelspec": {
   "display_name": ".venv",
   "language": "python",
   "name": "python3"
  },
  "language_info": {
   "codemirror_mode": {
    "name": "ipython",
    "version": 3
   },
   "file_extension": ".py",
   "mimetype": "text/x-python",
   "name": "python",
   "nbconvert_exporter": "python",
   "pygments_lexer": "ipython3",
   "version": "3.11.2"
  }
 },
 "nbformat": 4,
 "nbformat_minor": 2
}
